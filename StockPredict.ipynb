{
 "cells": [
  {
   "cell_type": "code",
   "execution_count": 29,
   "metadata": {},
   "outputs": [],
   "source": [
    "#import libraries to predict stock prices with pytorch\n",
    "import numpy as np\n",
    "import matplotlib.pyplot as plt\n",
    "import pandas as pd\n",
    "import torch\n",
    "import torch.nn as nn\n",
    "from torch.autograd import Variable\n"
   ]
  },
  {
   "cell_type": "code",
   "execution_count": 33,
   "metadata": {},
   "outputs": [
    {
     "name": "stdout",
     "output_type": "stream",
     "text": [
      "         Ngày Lần cuối       Mở      Cao     Thấp        KL % Thay đổi\n",
      "0  2024-05-16  46750.0  46150.0  48200.0  45600.0  278000.0       0.86\n",
      "1  2024-05-15  46350.0  46500.0  48050.0  46050.0  136000.0       0.65\n",
      "2  2024-05-14  46050.0  45550.0  48150.0  45000.0  526000.0       2.22\n",
      "3  2024-05-13  45050.0  45000.0  45500.0  44100.0  117000.0       0.11\n",
      "4  2024-05-10  45000.0  45400.0  46150.0  44400.0  117000.0      -0.88\n",
      "5  2024-05-09  45400.0  45900.0  46000.0  42500.0  142000.0        0.0\n",
      "6  2024-05-08  45400.0  45150.0  46900.0  44250.0  120000.0       0.89\n",
      "7  2024-05-07  45000.0  44400.0  45450.0  42650.0  105000.0       0.56\n",
      "8  2024-05-06  44750.0  44450.0  44900.0  41500.0  152000.0       0.67\n",
      "9  2024-05-03  44450.0  44400.0  44900.0  43350.0  132000.0       0.11\n"
     ]
    }
   ],
   "source": [
    "#import the dataset from StockData folder\n",
    "datasetname= 'VIC.csv'\n",
    "dataset = pd.read_csv('StockData/'+datasetname)\n",
    "\n",
    "#change M and K to numbers in the 6th column \n",
    "dataset.iloc[:, 5] = dataset.iloc[:, 5].str.replace('M','000')\n",
    "dataset.iloc[:, 5] = dataset.iloc[:, 5].str.replace('K','')\n",
    "\n",
    "#remove , and . from the 1th to 5th column\n",
    "for i in range(1,6):\n",
    "    dataset.iloc[:, i] = dataset.iloc[:, i].str.replace(',','')\n",
    "    dataset.iloc[:, i] = dataset.iloc[:, i].str.replace('.','')\n",
    "\n",
    "#change % to numbers in the 6th column\n",
    "dataset.iloc[:, 6] = dataset.iloc[:, 6].str.replace('%','')\n",
    "\n",
    "#0th column is the date, so we need to change it to a number\n",
    "dataset.iloc[:, 0] = pd.to_datetime(dataset.iloc[:, 0],dayfirst=True).dt.date\n",
    "\n",
    "\n",
    "#convert 1 to 6th column to float\n",
    "for i in range(1,7):\n",
    "    dataset.iloc[:, i] = dataset.iloc[:, i].astype(float)\n",
    "\n",
    "\n",
    "#preview the dataset\n",
    "print(dataset.head(10))\n",
    "\n",
    "\n"
   ]
  }
 ],
 "metadata": {
  "kernelspec": {
   "display_name": "Python 3",
   "language": "python",
   "name": "python3"
  },
  "language_info": {
   "codemirror_mode": {
    "name": "ipython",
    "version": 3
   },
   "file_extension": ".py",
   "mimetype": "text/x-python",
   "name": "python",
   "nbconvert_exporter": "python",
   "pygments_lexer": "ipython3",
   "version": "3.9.2"
  }
 },
 "nbformat": 4,
 "nbformat_minor": 2
}
