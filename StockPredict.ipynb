{
 "cells": [
  {
   "cell_type": "code",
   "execution_count": 2,
   "metadata": {},
   "outputs": [],
   "source": [
    "#import libraries to predict stock prices with pytorch\n",
    "import numpy as np\n",
    "import matplotlib.pyplot as plt\n",
    "import pandas as pd\n",
    "import torch\n",
    "import torch.nn as nn\n",
    "from torch.autograd import Variable\n"
   ]
  },
  {
   "cell_type": "code",
   "execution_count": 3,
   "metadata": {},
   "outputs": [
    {
     "name": "stdout",
     "output_type": "stream",
     "text": [
      "         Ngày Lần cuối      Mở     Cao    Thấp     KL % Thay đổi\n",
      "0  16/05/2024   46,750  46,150  48,200  45,600  2.78M      0.86%\n",
      "1  15/05/2024   46,350  46,500  48,050  46,050  1.36M      0.65%\n",
      "2  14/05/2024   46,050  45,550  48,150  45,000  5.26M      2.22%\n",
      "3  13/05/2024   45,050  45,000  45,500  44,100  1.17M      0.11%\n",
      "4  10/05/2024   45,000  45,400  46,150  44,400  1.17M     -0.88%\n"
     ]
    }
   ],
   "source": [
    "#import the dataset from StockData folder\n",
    "datasetname= 'VIC.csv'\n",
    "dataset = pd.read_csv('StockData/'+datasetname)\n",
    "\n",
    "#preview the dataset\n",
    "print(dataset.head())\n"
   ]
  }
 ],
 "metadata": {
  "kernelspec": {
   "display_name": "Python 3",
   "language": "python",
   "name": "python3"
  },
  "language_info": {
   "codemirror_mode": {
    "name": "ipython",
    "version": 3
   },
   "file_extension": ".py",
   "mimetype": "text/x-python",
   "name": "python",
   "nbconvert_exporter": "python",
   "pygments_lexer": "ipython3",
   "version": "3.9.2"
  }
 },
 "nbformat": 4,
 "nbformat_minor": 2
}
